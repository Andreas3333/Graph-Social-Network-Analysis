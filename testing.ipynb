{
 "cells": [
  {
   "cell_type": "code",
   "execution_count": 2,
   "id": "da08be14",
   "metadata": {},
   "outputs": [],
   "source": [
    "import pandas as pd\n",
    "data=pd.read_csv(\"final_Dataset/final_Dataset.csv\")"
   ]
  },
  {
   "cell_type": "code",
   "execution_count": 3,
   "id": "749e5055",
   "metadata": {},
   "outputs": [
    {
     "data": {
      "text/html": [
       "<div>\n",
       "<style scoped>\n",
       "    .dataframe tbody tr th:only-of-type {\n",
       "        vertical-align: middle;\n",
       "    }\n",
       "\n",
       "    .dataframe tbody tr th {\n",
       "        vertical-align: top;\n",
       "    }\n",
       "\n",
       "    .dataframe thead th {\n",
       "        text-align: right;\n",
       "    }\n",
       "</style>\n",
       "<table border=\"1\" class=\"dataframe\">\n",
       "  <thead>\n",
       "    <tr style=\"text-align: right;\">\n",
       "      <th></th>\n",
       "      <th>Unnamed: 0</th>\n",
       "      <th>Date</th>\n",
       "      <th>Open</th>\n",
       "      <th>High</th>\n",
       "      <th>Low</th>\n",
       "      <th>Close</th>\n",
       "      <th>Adj Close</th>\n",
       "      <th>Volume</th>\n",
       "      <th>Symbol</th>\n",
       "      <th>Name</th>\n",
       "      <th>Sector</th>\n",
       "    </tr>\n",
       "  </thead>\n",
       "  <tbody>\n",
       "    <tr>\n",
       "      <th>0</th>\n",
       "      <td>0</td>\n",
       "      <td>2022-01-03 00:00:00-05:00</td>\n",
       "      <td>178.320007</td>\n",
       "      <td>179.089996</td>\n",
       "      <td>175.839996</td>\n",
       "      <td>177.740005</td>\n",
       "      <td>172.506775</td>\n",
       "      <td>1930700</td>\n",
       "      <td>MMM</td>\n",
       "      <td>3M</td>\n",
       "      <td>Industrials</td>\n",
       "    </tr>\n",
       "    <tr>\n",
       "      <th>1</th>\n",
       "      <td>1</td>\n",
       "      <td>2022-01-04 00:00:00-05:00</td>\n",
       "      <td>178.479996</td>\n",
       "      <td>181.259995</td>\n",
       "      <td>178.029999</td>\n",
       "      <td>180.229996</td>\n",
       "      <td>174.923447</td>\n",
       "      <td>2522200</td>\n",
       "      <td>MMM</td>\n",
       "      <td>3M</td>\n",
       "      <td>Industrials</td>\n",
       "    </tr>\n",
       "    <tr>\n",
       "      <th>2</th>\n",
       "      <td>2</td>\n",
       "      <td>2022-01-05 00:00:00-05:00</td>\n",
       "      <td>177.130005</td>\n",
       "      <td>181.779999</td>\n",
       "      <td>177.000000</td>\n",
       "      <td>179.490005</td>\n",
       "      <td>174.205261</td>\n",
       "      <td>2952400</td>\n",
       "      <td>MMM</td>\n",
       "      <td>3M</td>\n",
       "      <td>Industrials</td>\n",
       "    </tr>\n",
       "    <tr>\n",
       "      <th>3</th>\n",
       "      <td>3</td>\n",
       "      <td>2022-01-06 00:00:00-05:00</td>\n",
       "      <td>180.880005</td>\n",
       "      <td>181.279999</td>\n",
       "      <td>177.539993</td>\n",
       "      <td>178.000000</td>\n",
       "      <td>172.759125</td>\n",
       "      <td>2505400</td>\n",
       "      <td>MMM</td>\n",
       "      <td>3M</td>\n",
       "      <td>Industrials</td>\n",
       "    </tr>\n",
       "    <tr>\n",
       "      <th>4</th>\n",
       "      <td>4</td>\n",
       "      <td>2022-01-07 00:00:00-05:00</td>\n",
       "      <td>178.130005</td>\n",
       "      <td>180.490005</td>\n",
       "      <td>177.220001</td>\n",
       "      <td>179.949997</td>\n",
       "      <td>174.651703</td>\n",
       "      <td>2800200</td>\n",
       "      <td>MMM</td>\n",
       "      <td>3M</td>\n",
       "      <td>Industrials</td>\n",
       "    </tr>\n",
       "  </tbody>\n",
       "</table>\n",
       "</div>"
      ],
      "text/plain": [
       "   Unnamed: 0                       Date        Open        High         Low  \\\n",
       "0           0  2022-01-03 00:00:00-05:00  178.320007  179.089996  175.839996   \n",
       "1           1  2022-01-04 00:00:00-05:00  178.479996  181.259995  178.029999   \n",
       "2           2  2022-01-05 00:00:00-05:00  177.130005  181.779999  177.000000   \n",
       "3           3  2022-01-06 00:00:00-05:00  180.880005  181.279999  177.539993   \n",
       "4           4  2022-01-07 00:00:00-05:00  178.130005  180.490005  177.220001   \n",
       "\n",
       "        Close   Adj Close   Volume Symbol Name       Sector  \n",
       "0  177.740005  172.506775  1930700    MMM   3M  Industrials  \n",
       "1  180.229996  174.923447  2522200    MMM   3M  Industrials  \n",
       "2  179.490005  174.205261  2952400    MMM   3M  Industrials  \n",
       "3  178.000000  172.759125  2505400    MMM   3M  Industrials  \n",
       "4  179.949997  174.651703  2800200    MMM   3M  Industrials  "
      ]
     },
     "execution_count": 3,
     "metadata": {},
     "output_type": "execute_result"
    }
   ],
   "source": [
    "data.head()"
   ]
  },
  {
   "cell_type": "code",
   "execution_count": 6,
   "id": "2454ce5c",
   "metadata": {},
   "outputs": [
    {
     "name": "stdout",
     "output_type": "stream",
     "text": [
      "197\n"
     ]
    }
   ],
   "source": [
    "count=0\n",
    "for i,j in data['Symbol'].iteritems():\n",
    "    if j!='MMM':\n",
    "        break\n",
    "    else:\n",
    "        count+=1\n",
    "print(count)        "
   ]
  },
  {
   "cell_type": "code",
   "execution_count": 8,
   "id": "ea10b21b",
   "metadata": {},
   "outputs": [
    {
     "data": {
      "text/plain": [
       "'MMM'"
      ]
     },
     "execution_count": 8,
     "metadata": {},
     "output_type": "execute_result"
    }
   ],
   "source": [
    "data['Symbol'][196]"
   ]
  },
  {
   "cell_type": "code",
   "execution_count": null,
   "id": "edb55d10",
   "metadata": {},
   "outputs": [],
   "source": []
  }
 ],
 "metadata": {
  "kernelspec": {
   "display_name": "Python 3 (ipykernel)",
   "language": "python",
   "name": "python3"
  },
  "language_info": {
   "codemirror_mode": {
    "name": "ipython",
    "version": 3
   },
   "file_extension": ".py",
   "mimetype": "text/x-python",
   "name": "python",
   "nbconvert_exporter": "python",
   "pygments_lexer": "ipython3",
   "version": "3.7.3"
  }
 },
 "nbformat": 4,
 "nbformat_minor": 5
}
